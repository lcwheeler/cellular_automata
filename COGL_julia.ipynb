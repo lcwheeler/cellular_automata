{
 "cells": [
  {
   "cell_type": "code",
   "execution_count": null,
   "metadata": {},
   "outputs": [],
   "source": [
    "using Plots\n",
    "using StatsBase\n",
    "using UnicodePlots"
   ]
  },
  {
   "cell_type": "code",
   "execution_count": null,
   "metadata": {},
   "outputs": [],
   "source": [
    "function initial_conditions(size1, size2)\n",
    "    grid = zeros(Int64, size1, size2)\n",
    "    for i in 1:length(grid)\n",
    "        grid[i] = rand(0:1)\n",
    "    end\n",
    "    return grid\n",
    "end\n",
    "\n",
    "grid = initial_conditions(100, 100)"
   ]
  },
  {
   "cell_type": "code",
   "execution_count": null,
   "metadata": {},
   "outputs": [],
   "source": [
    "function generation(grid)\n",
    "    \n",
    "    # Make an independent copy of the original grid to enter next generation\n",
    "    new_grid = deepcopy(grid)\n",
    "    \n",
    "    # Loop over the coordinates of the array and determine if each element survives based on GOL rules\n",
    "    R = CartesianRange(size(grid))\n",
    "    I1, Iend = first(R), last(R)\n",
    "    \n",
    "    #loop over Cartesian coordinats of \"grid\" array \n",
    "    for I in R\n",
    "        s = zero(eltype(new_grid))\n",
    "        \n",
    "        for J in CartesianRange(max(I1, I-I1), min(Iend, I+I1))\n",
    "            s += grid[J]\n",
    "        end\n",
    "        \n",
    "        # If cell is alive and has too many or too few neighbors it dies! \n",
    "        if grid[I] == 1 && (s < 2 || s > 3)\n",
    "                new_grid[I] = 0\n",
    "        # If the cell is dead and has exactly three neighbors it comes back to life\n",
    "        elseif grid[I] == 0 && s ==3\n",
    "                new_grid[I] = 1\n",
    "            \n",
    "    \n",
    "        end\n",
    "        \n",
    "    end\n",
    "        \n",
    "    # overwrite the original grid with the new grid and return the update grid\n",
    "    grid = new_grid\n",
    "    return grid \n",
    "    \n",
    "end"
   ]
  },
  {
   "cell_type": "code",
   "execution_count": null,
   "metadata": {},
   "outputs": [],
   "source": [
    "anim = Animation()\n",
    "\n",
    "for i in 1:50\n",
    "    grid = generation(grid)\n",
    "    Plots.heatmap(grid, grid=true, border=false, ticks=false, legend = :none)\n",
    "    frame(anim)\n",
    "end\n",
    "gif(anim, \"test2.gif\", fps=10)"
   ]
  },
  {
   "cell_type": "code",
   "execution_count": null,
   "metadata": {},
   "outputs": [],
   "source": []
  }
 ],
 "metadata": {
  "kernelspec": {
   "display_name": "Julia 0.6.2",
   "language": "julia",
   "name": "julia-0.6"
  },
  "language_info": {
   "file_extension": ".jl",
   "mimetype": "application/julia",
   "name": "julia",
   "version": "0.6.2"
  }
 },
 "nbformat": 4,
 "nbformat_minor": 2
}
